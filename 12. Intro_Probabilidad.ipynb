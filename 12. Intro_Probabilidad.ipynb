{
 "cells": [
  {
   "cell_type": "markdown",
   "metadata": {
    "id": "Co5ptveeKrvu"
   },
   "source": [
    "---\n",
    "\n",
    "<p align=\"center\">\n",
    "  <img src=\"https://raw.githubusercontent.com/lacamposm/Diplomado_Metodos_UCentral/main/data/images/imagen_ucentral.jpg\" alt=\"logo_Ucentral\" width=\"400px\" height=\"300px\">\n",
    "</p>"
   ]
  },
  {
   "cell_type": "markdown",
   "metadata": {
    "id": "dZqhoXK8LPg3"
   },
   "source": [
    "# ___Diplomado: Métodos Estadísticos para el Análisis de Datos___\n",
    "\n",
    "## ___Docente: Luis Andres Campos Maldonado.___\n",
    "\n",
    "### ___Estadística descriptiva bivariada.___\n",
    "\n",
    "\n",
    "- Introducción  a la Probabilidad y las técnicas de conteo.\n",
    "\n",
    "---"
   ]
  },
  {
   "cell_type": "markdown",
   "metadata": {
    "id": "vehXEF14Lbjc"
   },
   "source": [
    "Supongamos el lanzamiento de 2 dados. ¿Cuales son los posibles resultados?\n",
    "\n",
    "Sabemos que tenemos 36 posbiles resultados, pues en cada dado tenemos 6 opciones de resultado.\n",
    "\n",
    "$$(i,j),\\ \\ 1\\leq i,j \\leq 6$$"
   ]
  },
  {
   "cell_type": "code",
   "execution_count": 4,
   "metadata": {
    "id": "7agVmZyBLnIA"
   },
   "outputs": [],
   "source": [
    "import numpy as np\n",
    "import pandas as pd\n",
    "from scipy.special import factorial, perm, comb\n",
    "#herramientas para conteo"
   ]
  },
  {
   "cell_type": "code",
   "execution_count": 5,
   "metadata": {
    "colab": {
     "base_uri": "https://localhost:8080/"
    },
    "executionInfo": {
     "elapsed": 255,
     "status": "ok",
     "timestamp": 1689809232430,
     "user": {
      "displayName": "Eduardo Alvarez",
      "userId": "06317769111322878411"
     },
     "user_tz": 300
    },
    "id": "vfdlUZllMWui",
    "outputId": "4e8d9281-ce48-4d33-efd0-a646799ac3a1"
   },
   "outputs": [
    {
     "data": {
      "text/plain": [
       "3"
      ]
     },
     "execution_count": 5,
     "metadata": {},
     "output_type": "execute_result"
    }
   ],
   "source": [
    "dado1 = [1,2,3,4,5,6] ## Lista.\n",
    "dado2 = [1,2,3,4,5,6] ## Lista.\n",
    "##\n",
    "np.random.choice(dado1) ## Generamos lanzamiento del dado."
   ]
  },
  {
   "cell_type": "code",
   "execution_count": 6,
   "metadata": {
    "colab": {
     "base_uri": "https://localhost:8080/"
    },
    "executionInfo": {
     "elapsed": 17,
     "status": "ok",
     "timestamp": 1681576754162,
     "user": {
      "displayName": "luis andres campos maldonado",
      "userId": "11260189668651664411"
     },
     "user_tz": 300
    },
    "id": "W2jSsfK2OsMe",
    "outputId": "08fc469c-675d-44a6-bab2-655a10785a6e"
   },
   "outputs": [
    {
     "name": "stdout",
     "output_type": "stream",
     "text": [
      "[(1, 1), (1, 2), (1, 3), (1, 4), (1, 5), (1, 6), (2, 1), (2, 2), (2, 3), (2, 4), (2, 5), (2, 6), (3, 1), (3, 2), (3, 3), (3, 4), (3, 5), (3, 6), (4, 1), (4, 2), (4, 3), (4, 4), (4, 5), (4, 6), (5, 1), (5, 2), (5, 3), (5, 4), (5, 5), (5, 6), (6, 1), (6, 2), (6, 3), (6, 4), (6, 5), (6, 6)]\n",
      "36\n"
     ]
    }
   ],
   "source": [
    "results = [(i,j) for i in dado1 for j in dado2]\n",
    "print(results)\n",
    "print(len(results))"
   ]
  },
  {
   "cell_type": "code",
   "execution_count": 7,
   "metadata": {
    "colab": {
     "base_uri": "https://localhost:8080/"
    },
    "executionInfo": {
     "elapsed": 13,
     "status": "ok",
     "timestamp": 1681576754163,
     "user": {
      "displayName": "luis andres campos maldonado",
      "userId": "11260189668651664411"
     },
     "user_tz": 300
    },
    "id": "zT2jcyyQlvT0",
    "outputId": "6ebc731d-f339-4424-a76f-f6cb960b887a"
   },
   "outputs": [
    {
     "data": {
      "text/plain": [
       "array([1, 5, 6, ..., 1, 3, 6])"
      ]
     },
     "execution_count": 7,
     "metadata": {},
     "output_type": "execute_result"
    }
   ],
   "source": [
    "## Vamos a simular el lanzamiento de un 10000000 de veces de un dado\n",
    "np.random.choice(dado1,10_000_000)\n",
    "\n",
    "###el espacio muestral es el valor esperado"
   ]
  },
  {
   "cell_type": "code",
   "execution_count": 21,
   "metadata": {
    "colab": {
     "base_uri": "https://localhost:8080/"
    },
    "executionInfo": {
     "elapsed": 15,
     "status": "ok",
     "timestamp": 1689729259078,
     "user": {
      "displayName": "Eduardo Alvarez",
      "userId": "06317769111322878411"
     },
     "user_tz": 300
    },
    "id": "toF-Ud7StMA2",
    "outputId": "89d25127-bdbd-40d3-deb7-ce2d5d781f21"
   },
   "outputs": [
    {
     "data": {
      "text/plain": [
       "1666666.6666666665"
      ]
     },
     "execution_count": 21,
     "metadata": {},
     "output_type": "execute_result"
    }
   ],
   "source": [
    "##revisar: com o se distribuyen los valores en la simulacion?\n",
    "###se puede volver un panda dataframe? con value_count\n",
    "simul = 10_000_000*(1/6)\n",
    "simul"
   ]
  },
  {
   "cell_type": "code",
   "execution_count": 29,
   "metadata": {},
   "outputs": [
    {
     "ename": "AttributeError",
     "evalue": "'float' object has no attribute 'random'",
     "output_type": "error",
     "traceback": [
      "\u001b[0;31m---------------------------------------------------------------------------\u001b[0m",
      "\u001b[0;31mAttributeError\u001b[0m                            Traceback (most recent call last)",
      "Cell \u001b[0;32mIn[29], line 2\u001b[0m\n\u001b[1;32m      1\u001b[0m \u001b[38;5;66;03m###Lanzar el dado \u001b[39;00m\n\u001b[0;32m----> 2\u001b[0m results \u001b[38;5;241m=\u001b[39m [np\u001b[38;5;241m.\u001b[39mrandom\u001b[38;5;241m.\u001b[39mrandint(\u001b[38;5;241m1\u001b[39m, \u001b[38;5;241m6\u001b[39m) \u001b[38;5;28;01mfor\u001b[39;00m result \u001b[38;5;129;01min\u001b[39;00m \u001b[38;5;28mrange\u001b[39m(\u001b[38;5;241m10_000_000\u001b[39m)]\n\u001b[1;32m      4\u001b[0m \u001b[38;5;66;03m###calcular el valor esperado\u001b[39;00m\n\u001b[1;32m      5\u001b[0m expec_value \u001b[38;5;241m=\u001b[39m \u001b[38;5;28msum\u001b[39m(results)\u001b[38;5;241m/\u001b[39m\u001b[38;5;28mlen\u001b[39m(results)\n",
      "Cell \u001b[0;32mIn[29], line 2\u001b[0m, in \u001b[0;36m<listcomp>\u001b[0;34m(.0)\u001b[0m\n\u001b[1;32m      1\u001b[0m \u001b[38;5;66;03m###Lanzar el dado \u001b[39;00m\n\u001b[0;32m----> 2\u001b[0m results \u001b[38;5;241m=\u001b[39m [\u001b[43mnp\u001b[49m\u001b[38;5;241;43m.\u001b[39;49m\u001b[43mrandom\u001b[49m\u001b[38;5;241m.\u001b[39mrandint(\u001b[38;5;241m1\u001b[39m, \u001b[38;5;241m6\u001b[39m) \u001b[38;5;28;01mfor\u001b[39;00m result \u001b[38;5;129;01min\u001b[39;00m \u001b[38;5;28mrange\u001b[39m(\u001b[38;5;241m10_000_000\u001b[39m)]\n\u001b[1;32m      4\u001b[0m \u001b[38;5;66;03m###calcular el valor esperado\u001b[39;00m\n\u001b[1;32m      5\u001b[0m expec_value \u001b[38;5;241m=\u001b[39m \u001b[38;5;28msum\u001b[39m(results)\u001b[38;5;241m/\u001b[39m\u001b[38;5;28mlen\u001b[39m(results)\n",
      "\u001b[0;31mAttributeError\u001b[0m: 'float' object has no attribute 'random'"
     ]
    }
   ],
   "source": [
    "###Lanzar el dado \n",
    "results = [random.randint(1, 6) for result in range(10_000_000)]\n",
    "\n",
    "###calcular el valor esperado\n",
    "expec_value = sum(results)/len(results)\n",
    "\n",
    "print(expec_value)"
   ]
  },
  {
   "cell_type": "markdown",
   "metadata": {
    "id": "CK-rwS5BUp0q"
   },
   "source": [
    "Hay dos tipos de experimentos:\n",
    "\n",
    "1. **Experimentos Deterministas:** Se obtiene el mismo resultado cuando se realizan con las mismas condiciones. Hay una ley que predice las mediciones\n",
    "\n",
    "2. **Experimentos Aleatorios:** No producen los mismos resultados con las mismas condiciones iniciales.\n",
    "\n",
    "\n",
    "  \n",
    "  \n"
   ]
  },
  {
   "cell_type": "markdown",
   "metadata": {
    "id": "JXRVFzPyP0TT"
   },
   "source": [
    "#### ***Ejemplo: Determine cuáles de los siguientes experimentos son deterministas y cuáles aleatorios***\n",
    "\n",
    "  + Dejar caer un objeto y medir el tiempo.\n",
    "  \n",
    "  + Lanzar un dado y observar el número que sale.\n",
    "  \n",
    "  + Inflar un globo y determinar el volumen.\n",
    "  \n",
    "  + Sacar de un maso de cartas una carta al azar.\n",
    "  \n",
    "  + Calcular el tiempo que tarda un auto en recorrer cierta distancia.\n",
    "  \n",
    "  + Seleccionar una persona al azar y determinar su profesión."
   ]
  },
  {
   "cell_type": "markdown",
   "metadata": {
    "id": "n014La23dxgW"
   },
   "source": [
    "### ***Definición [Espacio Muestral]***: El espacio muestral de un determinado experimento es el conjunto de todos los posibles resultados. Denotaremos este espacio por $S$ u $\\Omega$.\n",
    "\n",
    "Veamos algunos ejemplos:\n",
    "\n",
    "* Experimento: Lanzar una moneda.\n",
    "\n",
    "$$\\Omega=\\{Cara\\, , \\, Sello\\}$$\n",
    "\n",
    "* Experimento: Lanzar dos monedas. En este caso el espacio muestral estará dado por todas las parejas que identifican los resultados en la moneda 1 y la moneda 2.\n",
    "\n",
    "$$ \\Omega=\\{(Cara, Cara) , (Cara, Sello) , (Sello, Cara) , (Sello, Sello) \\} $$\n",
    "\n",
    "- Experimento: Seleccionar un punto en una placa circular de radio $1$ y centro en el origen.\n",
    "\n",
    "$$\\Omega = \\{(x,y) \\in R^2 : x^2+y^2 \\leq 1\\}$$"
   ]
  },
  {
   "cell_type": "markdown",
   "metadata": {
    "id": "H7B2_q6UudsP"
   },
   "source": [
    "Planos cartesianos (conjunto de puntos)\n",
    "esto es una circumferencia: $$\\Omega = \\{(x,y) \\in R^2 : x^2+y^2 \\leq 1\\}$$\n"
   ]
  },
  {
   "cell_type": "markdown",
   "metadata": {
    "id": "gFNlkFYZPoWx"
   },
   "source": [
    "En probabilidad y estadística, el\n",
    "\n",
    "*   espacio muestral es el conjunto de todos los resultados posibles de un experimento aleatorio. Se denota por **Ω**.\n",
    "La probabilidad de un evento es la\n",
    "\n",
    "*   medida de la frecuencia con la que se espera que ocurra el evento. Se calcula dividiendo el número de resultados favorables por el número total de resultados posibles.\n",
    "\n",
    "*   En matemáticas, ∪ es el símbolo de la unión ( en lenguaje gramatical \"y\"). Se usa para denotar la unión de dos conjuntos. En este caso, S∪Ω es la unión del conjunto S y el espacio muestral Ω. En otras palabras, es el conjunto de todos los elementos que pertenecen a S o a Ω, o a ambos.\n",
    "$$\\Omega = \\{(x,y) \\in R^2 : x^2+y^2 \\leq 1\\}$$ define un círculo unitario en el plano cartesiano. En otras palabras, Ω es el conjunto de todos los puntos (x,y) tales que la distancia entre (x,y) y el origen es menor o igual a 1. tener en cuenta que si $$ x^2+y^2 \\leq 1\\ $$ , entonces la diferencia entre (x, y) y el origen es menor o igual al radio del circulo unitario, que es 1. por el contrario si la distancia entre(x,y) y el origen es menor o igual a 1, entonces $$ x^2+y^2 \\leq 1\\ $$\n",
    "* Ω es el conjunto de todos los puntos (x,y) en el plano real que satisface la desigualdad $$ x^2+y^2 \\leq 1\\ $$\n",
    "*   Probabilidad se ve en forma de conjuntos\n",
    "\n",
    "\n",
    "\n",
    "\n",
    "\n"
   ]
  },
  {
   "cell_type": "markdown",
   "metadata": {
    "id": "p1IUvzPfd3en"
   },
   "source": [
    "### ***Definición [Evento]:*** Dado un experimento aleatorio con espacio muestral $\\Omega$, se llama *evento* o suceso a cualquier subconjunto del espacio muestral. Generalmente se denota con letras mayúsculas A, B, C, E, etc.\n",
    "\n",
    "Nota: cuando el evento es el resultado de una sola repetición se denomina **evento simple**. También se dice simple si consta de un solo resultado del experimento aleatorio, si consta de **más de un resultado se dice compuesto**.\n",
    "\n",
    "Algunos ejemplos\n",
    "\n",
    "- Experimento: Lanzar un dado y observar el número de la cara posterior. En este caso tenemos seis eventos simples. Puede salir cualquiera de los seis números: $E_1=\\{1\\}$, $E_2=\\{2\\}$, $E_3=\\{3\\}$, $E_4=\\{4\\}$, $E_5=\\{5\\}$, $E_6=\\{6\\}$, $E_7=\\{5,6\\}$\n",
    "\n",
    "- Experimento: Lanzar una moneda y observar la marca posterior. En este caso tenemos dos eventos,  Que salga cara $E_1=\\{cara\\}$ y que salga sello $E_2=\\{sello\\}$\n",
    "\n",
    "**Observaciones**\n",
    "\n",
    "   + $E=\\phi$ es el evento vacío o que nunca ocurre.\n",
    "   \n",
    "   + $E= \\Omega$ es el evento seguro o que siempre ocurre.\n",
    "   \n",
    "***Ejemplo:*** Participamos en un sorteo de un premio con una rifa del 1 al 50. En este caso los posibles resultados están dados por $\\Omega = \\{1,2,3 \\dots , 50\\}$. Algunos eventos son:\n",
    "\n",
    "- $A$: El número ganador es par. En este caso $A=\\{2,4,6, \\dots 50\\}=\\{2k \\mid k \\in Z \\, , \\,  k \\in [1,25]\\}$. (evento compuesto)\n",
    "\n",
    "...\"{}\" = conjunto que esta conformado por todos los números pares k. k debe perteniecer a los números enteros, y k esta entre 1 y 25.  La barra vertical (|) significa \"tal que\". El conjunto se puede leer como \"el conjunto de todos los k tales que k es un número par y k está entre 1 y 25\" \n",
    "\n",
    "- $B$: El número es mayor que 30. Luego, $B=\\{31, 32, \\dots, 50\\}$. (evento compuesto)\n",
    "\n",
    "- $C$: El número ganador es 46. Luego $C=\\{46\\}$. (simple)\n",
    "\n",
    "Como los eventos corresponden a subconjuntos del espacio muestral revisaremos rápidamente algunas operaciones con conjuntos."
   ]
  },
  {
   "cell_type": "markdown",
   "metadata": {
    "id": "97HNYpqJd-yQ"
   },
   "source": [
    "## ***Operaciones básicas con conjuntos.***\n",
    "\n",
    "Considere un experimento aleatorio con espacio muestral $\\Omega$. Sean $A$ y $B$ dos eventos de $\\Omega$, es decir, $A \\subset \\Omega$ y $B \\subset \\Omega$\n",
    "\n",
    "\n",
    "***Unión de Conjuntos:***\n",
    "\n",
    "La unión de conjuntos se denota por $A \\cup B$ y de define como:\n",
    "\n",
    "$$A \\cup B = \\{\\omega \\in \\Omega \\mid \\omega \\in A, \\quad  o \\quad \\omega \\in B\\}$$\n",
    "\n",
    "Es decir, $A \\cup B$ significa que ocurre el evento $A$ u ocurre el evento $B$.\n",
    "\n",
    "Algunas propiedades:\n",
    "\n",
    "  1. $A \\cup B = B \\cup A$\n",
    "  \n",
    "  2. $A \\cup A = A$\n",
    "  \n",
    "  3. $A \\cup \\phi = A$\n",
    "  \n",
    "  4. $A \\cup \\Omega = \\Omega$\n",
    "  \n",
    "  5. $A \\cup A^c = \\Omega$\n",
    "\n",
    "\n",
    "### ***Intersección de Conjuntos:***\n",
    "\n",
    "\n",
    "La intersección de conjuntos se denota por $A \\cap B$ y de define como:\n",
    "\n",
    "$$A \\cap B = \\{\\omega \\in \\Omega \\mid \\omega \\in A, \\quad  y \\quad \\omega \\in B\\}$$\n",
    "\n",
    "\n",
    "Es decir, $A \\cap B$ significa que ocurre el evento $A$ **y** ocurre el evento $B$.\n",
    "\n",
    "Algunas propiedades:\n",
    "\n",
    "  1. $A \\cap B = B \\cap A$\n",
    "  \n",
    "  2. $A \\cap A = A$\n",
    "  \n",
    "  3. $A \\cap \\phi = \\phi$\n",
    "  \n",
    "  4. $A \\cap \\Omega = A$\n",
    "  \n",
    "  5. $A \\cap A^c = \\phi$\n",
    "  \n",
    "\n",
    "\n",
    "### ***Diferencia de Conjuntos:***\n",
    "\n",
    "\n",
    "La diferencia de conjuntos se denota por $A - B$ y de define como:\n",
    "\n",
    "$$A - B = \\{\\omega \\in \\Omega \\mid \\omega \\in A, \\quad  y \\quad \\omega \\notin B\\}$$\n",
    "\n",
    "Es decir, $A - B$ significa que ocurre el evento $A$ **y no** ocurre el evento $B$.\n",
    "\n",
    "\n",
    "...En otras palabras, A−B es la diferencia entre A y B. Es el conjunto de todos los elementos que están en A pero no en B.\n",
    "\n",
    "...Por ejemplo, si A={1,2,3} y B={2,4,5}, entonces A−B={1,3}. Esto se debe a que 1 y 3 están en A pero no en B\n",
    "\n",
    "Algunas propiedades:\n",
    "\n",
    "  1. $A - B \\neq B - A$\n",
    "  \n",
    "  2. $A - A = \\phi$\n",
    "  \n",
    "  3. $A - B = A \\cap B^c$\n",
    "  \n",
    "  4. $A - \\phi = A$\n",
    "  \n",
    "  5. $\\Omega - A = A^c$\n",
    "  \n",
    "  6. $A - B = A- (A \\cap B)$\n",
    "\n",
    "\n",
    "### ***Complemento de un Conjunto:***\n",
    "\n",
    "\n",
    "El complemento de un conjunto se denota por $A^c$ y de define como:\n",
    "\n",
    "$$A^c = \\{\\omega \\in \\Omega \\mid \\omega \\notin A\\}$$\n",
    "\n",
    "Es decir, $A^c$ significa que **no** ocurre el evento $A$.\n",
    "\n",
    "Algunas propiedades:\n",
    "\n",
    "  + $\\phi^c = \\Omega$\n",
    "  \n",
    "  + $\\Omega^c = \\phi$\n",
    "  \n",
    "  + $(A^c)^c=A$\n",
    "  \n",
    "Dos propiedades importantes de conjuntos\n",
    "\n",
    " 1. Distributiva $A \\cap (B \\cup C)= (A \\cap B) \\cup (A \\cap C)$\n",
    "  \n",
    " 2. Distributiva $A \\cup (B \\cap C)= (A \\cup B) \\cap (A \\cup C)$\n",
    "\n",
    " 3. Ley de Morgan $(A \\cap B)^c = A^c \\cup B^c$\n",
    "\n",
    " 4. Ley de Morgan $(A \\cup B)^c = A^c \\cap B^c$\n",
    "\n",
    "\n",
    " ### ***Partes de un conjunto o conjunto potencia:***\n",
    "\n",
    "\n",
    "El conjunto de partes de $A$ es el conjunto de todos los posibles subconjuntos de $A$. Se denota como $\\mathscr{P}(A)$ y se define\n",
    "\n",
    "$$\\mathscr{P}(A) = \\{ B \\mid \\text{B es subconjunto de A} \\}$$\n",
    "\n",
    "Es decir, el conjunto de partes es el conjunto de todos los posibles eventos del espacio muestral.\n",
    "\n",
    "***Ejemplo:*** Si $A=\\{3,5,6\\}$. Entonces, el conjunto potencia o de partes del conjunto está dado por:\n",
    "\n",
    "$$\\mathscr{P}(A)=\\{\\phi,  \\{3\\}, \\{5\\}, \\{6\\}, \\{3,5\\}, \\{3,6\\}, \\{5,6\\}, \\{3,5,6\\} \\}$$\n",
    "Observe que este conjunto tiene $8$ elementos y $A$ tiene 3 elementos."
   ]
  },
  {
   "cell_type": "markdown",
   "metadata": {
    "id": "I9H06WL2apuc"
   },
   "source": [
    "## ***Probabilidad.***\n",
    "\n",
    "El concepto de probabilidad esta asociado a una medida intuitiva de la posibilidad de que un evento ocurra. De esta manera vamos a definir la probabilidad de que un evento $A$ ocurra de la siguiente forma:\n",
    "\n",
    "***Definición (Probabilidad):***\n",
    "\n",
    "Supongamos que un experimento aleatorio con espacio muestral $\\Omega$ todos los elementos de $\\Omega$ tienen las mismas posibilidades de ocurrencia (es decir, equiprobable). Se define la probabilidad clásica (o de Laplace) de un evento $A \\subseteq \\Omega$ como:\n",
    "\n",
    "$$P(A) =  \\dfrac{\\text{numero de casos favorables}}{\\text{numero de casos\n",
    "posibles}}= \\dfrac{\\# A}{\\# \\Omega}$$\n",
    "\n"
   ]
  },
  {
   "cell_type": "markdown",
   "metadata": {
    "id": "8yF1Kk5lQ97G"
   },
   "source": [
    "Veamos algunos ejemplos:\n",
    "\n",
    "***Ejemplo:*** Calcular la probabilidad de que al lanzar un dado, salga el número 5.\n",
    "\n",
    "Para cualquier ejercicio de probabilidad es necesario identificar lo siguiente.\n",
    "\n",
    "* Experimento: Lanzar un dado.\n",
    "   \n",
    "+ Espacio muestral. Todos los posibles resultados $\\Omega=\\{1,2,3,4,5,6\\}$. Tamaño del espacio muestral es $6$; $\\# \\Omega =6$\n",
    "   \n",
    "+ Evento: $A=\\{\\text{obtener el número 5}\\}=\\{5\\}$. Tamaño del evento $\\# A = 1$.\n",
    "   \n",
    "Dados los anteriores elementos, basta aplicar la fórmula\n",
    "\n",
    "$$P(A)=\\dfrac{\\# A}{\\# \\Omega}=\\dfrac{1}{6}$$\n",
    "La probabilidad de que obtener un cinco en un lanzamiento de un dado es una entre seis, es decir $1/6$.   \n",
    "\n",
    "\n"
   ]
  },
  {
   "cell_type": "markdown",
   "metadata": {
    "id": "9nJZ03X4RKQW"
   },
   "source": [
    "***Ejemplo:*** Calcular la probabilidad de que al lanzar dos monedas distinguibles al mismo tiempo, por lo menos una muestre cara.\n",
    "\n",
    "Es necesario identificar lo siguiente.\n",
    "\n",
    "* Experimento: Lanzar dos monedas\n",
    "   \n",
    "+ Espacio muestral. Todos los posibles resultados $\\Omega=\\{(c,c), \\, (c,s), \\, (s,c), (s,s) \\}$. Tamaño del espacio muestral es $4$; $\\# \\Omega =4$\n",
    "   \n",
    "+ Evento: $C=\\{\\text{obtener al menos una cara}\\}=\\{(c,s), \\, (s,c), \\, (c,c)\\}$. Tamaño del evento $\\# C = 3$.\n",
    "   \n",
    "Dados los anteriores elementos, basta aplicar la fórmula\n",
    "\n",
    "$$P(A)=\\dfrac{\\# C}{\\# \\Omega}=\\dfrac{3}{4}$$\n",
    "La probabilidad de obtener una cara en el lanzamiento de dos monedas es $0.75$. Es decir, una posibilidad del $75\\%$.  \n",
    "\n",
    "\n"
   ]
  },
  {
   "cell_type": "markdown",
   "metadata": {
    "id": "WlI2Kl9hRPCA"
   },
   "source": [
    "***Ejemplo:*** Calcular la probabilidad de que al lanzar dos dados distinguibles la suma de las caras superiores sea siete.\n",
    "\n",
    "Es necesario identificar lo siguiente.\n",
    "\n",
    "* Experimento: Lanzar dos dados que se distinguen.\n",
    "   \n",
    "+ Espacio muestral. Todos los posibles resultados $\\Omega=\\{(1,1), \\, (1,2), \\, (1,3), \\dots, (6,6) \\}= \\{(x,y) \\mid x,y=1,2,3, \\dots, 6\\}$. Tamaño del espacio muestral es $36$; $\\# \\Omega =36$\n",
    "   \n",
    "+ Evento: $D=\\{\\text{suma de los resultados es 7}\\}=\\{(1,6),\\, (6,1), \\, (2,5), \\, (5,2), \\, (3,4), \\, (4,3)\\}$. Tamaño del evento $\\# D = 6$.\n",
    "   \n",
    "Dados los anteriores elementos, basta aplicar la fórmula\n",
    "\n",
    "$$P(A)=\\dfrac{\\# D}{\\# \\Omega}=\\dfrac{6}{36}=\\dfrac{1}{6}$$\n",
    "La probabilidad de que la suma de los valores en los dados sea siete es $1/6 \\approx 0,166$.  \n",
    "\n",
    "\n"
   ]
  },
  {
   "cell_type": "markdown",
   "metadata": {
    "id": "DYpHq8XeRUDp"
   },
   "source": [
    "***Ejemplo:*** En un grupo de 1000 hombres y de 1500 mujeres se escogen al azar a dos personas. ¿Cuál es la probabilidad de que ambas personas sean mujeres? ¿ Cuál es la probabilidad de escoger un hombre y una mujer?\n",
    "\n",
    "Es necesario identificar lo siguiente.\n",
    "\n",
    "+ Experimento: Escoger dos personas de un conjunto de 2500 personas donde 1000 son hombre y 1500 son mujeres.\n",
    "   \n",
    "+ Espacio muestral. Todos los posibles resultados $\\Omega=\\{(H1,H2),\\, (H1,H3), \\dots (M1,M2), \\, (M1, M3), \\dots , (H1,M1), \\, (H1, M2), \\dots \\}$. Ahora, la preguntas es: ¿Cuál es el tamaño de $\\Omega$ ?\n",
    "   \n",
    "+ Evento: $D=\\{\\text{las personas extraidas sean dos mujeres}\\}=\\{(M1,M2), \\, (M1,M3), \\, (M2,M3), \\dots\\}$. ¿Cuál es el tamaño del evento?\n",
    "   \n",
    "Si desconocemos los tamaños de estos conjuntos no podemos calcular la probabilidad. Para responder estas preguntas requerimos de algunas técnicas de conteo.\n",
    "\n"
   ]
  },
  {
   "cell_type": "code",
   "execution_count": 65,
   "metadata": {
    "id": "ctJHf_rTqTZB"
   },
   "outputs": [
    {
     "name": "stdout",
     "output_type": "stream",
     "text": [
      "la probabilidad de que la primera persona sea mujer 0.6\n",
      "la probabilidad de que la segunda persona sea mujer 0.5998399359743898\n",
      "la probabilidad de que ambas personas sean mujer 0.35990396158463384\n",
      "la probabilidad de que una persona sea hombre 0.4\n",
      "la probabilidad de que la segunda persona sea una mujer 0.6002400960384153\n",
      "la probabilidad de que ambas personas se un hombre y una mujer 0.24009603841536614\n"
     ]
    }
   ],
   "source": [
    "#Solución: \n",
    "\n",
    "###No. de casos posibles (espacio muestral) \n",
    "omega= 2500\n",
    "### p(A) casos favorables mujeres\n",
    "evento_A = 1500\n",
    "##Calcular la probabilidad de que la primera persona sea mujer:\n",
    "p_A= evento_A/omega\n",
    "p_A\n",
    "uno= print (f\"la probabilidad de que la primera persona sea mujer {p_A}\")\n",
    "##Calcular la probabilidad de que la segunda persona sea mujer:\n",
    "p_B = (evento_A-1)/(omega-1)\n",
    "p_B\n",
    "dos= print (f\"la probabilidad de que la segunda persona sea mujer {p_B}\")\n",
    "##Multiplicar las dos probabilidades de que ambas personas sean mujeres\n",
    "p_AB = p_A*p_B\n",
    "p_AB\n",
    "tres= print (f\"la probabilidad de que ambas personas sean mujer {p_AB}\")\n",
    "###No. casos posibles hombres\n",
    "evento_C = 1000\n",
    "## calcular la probabilidad de que la primera persona sea hombre\n",
    "p_C = evento_C/omega\n",
    "p_C\n",
    "cuatro= print (f\"la probabilidad de que una persona sea hombre {p_C}\")\n",
    "##Calcular la probabilidad de que la segunda persona sea una mujer:\n",
    "p_D = (evento_A)/(omega-1)\n",
    "p_D\n",
    "cinco= print (f\"la probabilidad de que la segunda persona sea una mujer {p_D}\")\n",
    "##Multiplicar las dos probabilidades de que ambas personas sean mujeres\n",
    "p_CD = p_C*p_D\n",
    "p_CD \n",
    "seis = cinco= print (f\"la probabilidad de que ambas personas se un hombre y una mujer {p_CD}\")\n",
    "\n",
    "#imprimir resultados\n",
    "uno\n",
    "dos\n",
    "tres\n",
    "cuatro \n",
    "cinco\n",
    "seis"
   ]
  },
  {
   "cell_type": "code",
   "execution_count": 66,
   "metadata": {},
   "outputs": [
    {
     "ename": "ModuleNotFoundError",
     "evalue": "No module named 'panda'",
     "output_type": "error",
     "traceback": [
      "\u001b[0;31m---------------------------------------------------------------------------\u001b[0m",
      "\u001b[0;31mModuleNotFoundError\u001b[0m                       Traceback (most recent call last)",
      "Cell \u001b[0;32mIn[66], line 2\u001b[0m\n\u001b[1;32m      1\u001b[0m \u001b[38;5;28;01mimport\u001b[39;00m \u001b[38;5;21;01mnumpy\u001b[39;00m \u001b[38;5;28;01mas\u001b[39;00m \u001b[38;5;21;01mnp\u001b[39;00m\n\u001b[0;32m----> 2\u001b[0m \u001b[38;5;28;01mimport\u001b[39;00m \u001b[38;5;21;01mpanda\u001b[39;00m \u001b[38;5;28;01mas\u001b[39;00m \u001b[38;5;21;01mpd\u001b[39;00m\n\u001b[1;32m      4\u001b[0m \u001b[38;5;66;03m##Calcular la probabilidad de que la primera persona sea mujer:\u001b[39;00m\n\u001b[1;32m      5\u001b[0m pd\u001b[38;5;241m.\u001b[39mSeries(data \u001b[38;5;241m=\u001b[39m uno)\n",
      "\u001b[0;31mModuleNotFoundError\u001b[0m: No module named 'panda'"
     ]
    }
   ],
   "source": [
    "import numpy as np\n",
    "import panda as pd\n",
    "\n",
    "##Calcular la probabilidad de que la primera persona sea mujer:\n",
    "pd.Series(data = uno)\n"
   ]
  },
  {
   "cell_type": "markdown",
   "metadata": {
    "id": "RY9hapOxRaU6"
   },
   "source": [
    "Existen otras definiciones de probabilidad.\n",
    "\n",
    "**Probabilidad Geométrica:** Dados dos conjuntos acotados $A$ y $\\Omega$, donde $\\Omega$ es el espacio muestral, podemos definir la probabilidad de A, mediante\n",
    "\n",
    "$$P(A)=\\dfrac{\\text{Area de A}}{\\text{Area de} \\, \\Omega}$$\n",
    "\n",
    "**Probabilidad Axiomática** La probabilidad es una función $P$,\n",
    "\n",
    "$$P \\, : \\,   \\text{coleccion de eventos} \\to [0,1]$$\n",
    "que satisface:\n",
    "\n",
    "1. $P(A) \\geq 0$\n",
    "\n",
    "valores negativos no pueden ser-- esto indica un error\n",
    "\n",
    "2. $P(\\Omega)=1$\n",
    "\n",
    "3. $P \\left ( \\cup_{k=1}^{\\infty} A_k \\right) = \\sum \\limits_{k=1}^{\\infty} P(A_k)$, para eventos disyuntos dos a dos, es decir, mutuamente excluyentes.\n",
    "\n",
    "Propiedades\n",
    "\n",
    "- $P(\\phi)=0$\n",
    "\n",
    "- $P \\left ( \\cup_{k=1}^n A_k \\right)= \\sum \\limits_{k=1}^{n} P(A_k)$, para eventos disyuntos dos a dos.\n",
    "\n",
    "- $P(A^c)=1-P(A)$\n",
    "\n",
    "- Si $A \\subseteq B$ entonces $P(A) \\leq P(B)$.\n",
    "\n",
    "- $P(A\\cup B)=P(A)+P(B)-P(A∩B)$\n",
    "\n"
   ]
  },
  {
   "cell_type": "markdown",
   "metadata": {
    "id": "86CjebWXRenK"
   },
   "source": [
    "***Ejemplo: (probabilidad geométrica:)***\n",
    "\n",
    "Se escoge al azar un punto dentro del círculo de radio R. Calcular la proba de que el punto esté más cerca de la circunferencia que del centro del círculo.\n",
    "\n",
    "***Solución:***\n",
    "\n",
    "Dado que es una circunferecnia de rario $R$, tenemos\n",
    "\n",
    "$\\Omega =$ \"conjunto de todos los puntos dentro del círculo de radio $R$\"\n",
    "\n",
    "$A=$ \"Conjunto de puntos que estar en el anillo presentado en la explicación\"\n",
    "\n",
    "Luego, si $p$ es probabilidad buscada, entonces:\n",
    "\n",
    "$$p=\\frac{\\text{Área de $A$}}{\\text{Área de $\\Omega$}}=\\frac{\\pi*R^2-\\pi*(R/2)^2}{\\pi*R^2}$$"
   ]
  },
  {
   "cell_type": "code",
   "execution_count": null,
   "metadata": {
    "colab": {
     "base_uri": "https://localhost:8080/",
     "height": 132
    },
    "executionInfo": {
     "elapsed": 261,
     "status": "error",
     "timestamp": 1689809657550,
     "user": {
      "displayName": "Eduardo Alvarez",
      "userId": "06317769111322878411"
     },
     "user_tz": 300
    },
    "id": "N6Td753Henee",
    "outputId": "41a2cd42-8c08-49b4-ea4f-8e9a212dc2e8"
   },
   "outputs": [
    {
     "ename": "SyntaxError",
     "evalue": "ignored",
     "output_type": "error",
     "traceback": [
      "\u001b[0;36m  File \u001b[0;32m\"<ipython-input-7-997f54fbae9c>\"\u001b[0;36m, line \u001b[0;32m3\u001b[0m\n\u001b[0;31m    probabilidad = (np.pi*(r)**2) - np.pi*(r/2)**2)/(np.pi*(r)**2)\u001b[0m\n\u001b[0m                                                  ^\u001b[0m\n\u001b[0;31mSyntaxError\u001b[0m\u001b[0;31m:\u001b[0m unmatched ')'\n"
     ]
    }
   ],
   "source": [
    "##tenemos r = 2 a manaera dee ejemplo\n",
    "r = 2\n",
    "probabilidad = (np.pi*(r)**2) - np.pi*(r/2)**2)/(np.pi*(r)**2)\n",
    "probabilidad\n",
    "###Revisar"
   ]
  },
  {
   "cell_type": "markdown",
   "metadata": {
    "id": "atv0hm9S-yUN"
   },
   "source": [
    "***Proponga su solución acá***"
   ]
  },
  {
   "cell_type": "markdown",
   "metadata": {
    "id": "i0BNerTrH5df"
   },
   "source": [
    "## ***Técnicas de Conteo.***\n",
    "\n",
    "Vamos a abordar diferentes elementos básicos de conteo que se usarán para calcular el tamaño de algunas muestras y de esta manera calcular probabilidades. Trabajaremos los siguientes temas:\n",
    "\n",
    "1. Principio Fundamental del Conteo.\n",
    "2. Ordenaciones.\n",
    "3. Combinaciones.\n",
    "4. Permutaciones."
   ]
  },
  {
   "cell_type": "markdown",
   "metadata": {
    "id": "Xf1MmGPEuKwK"
   },
   "source": [
    "***Principio Fundamental del Conteo.***\n",
    "\n",
    "\n",
    "<div align=\"center\"><img src='https://raw.githubusercontent.com/lacamposm/Diplomado_Metodos_UCentral/main/data/images/conteo12.png' width=600>\n",
    "</div>\n",
    "\n"
   ]
  },
  {
   "cell_type": "markdown",
   "metadata": {
    "id": "cB-p9DCgPZnY"
   },
   "source": [
    "### ***Veamos algunos ejemplos:***"
   ]
  },
  {
   "cell_type": "markdown",
   "metadata": {
    "id": "mhPAp_HfYH1q"
   },
   "source": [
    "#### ***Ejemplo.***\n",
    "\n",
    "<div align=\"center\"><img src='https://raw.githubusercontent.com/lacamposm/Diplomado_Metodos_UCentral/main/data/images/conteo15.png' width=600>\n",
    "</div>"
   ]
  },
  {
   "cell_type": "code",
   "execution_count": null,
   "metadata": {
    "colab": {
     "base_uri": "https://localhost:8080/"
    },
    "executionInfo": {
     "elapsed": 175,
     "status": "ok",
     "timestamp": 1681579517439,
     "user": {
      "displayName": "luis andres campos maldonado",
      "userId": "11260189668651664411"
     },
     "user_tz": 300
    },
    "id": "DcrdGBKQ8Qsz",
    "outputId": "95c57dbc-ff82-4e38-95ba-cdef30a75fa5"
   },
   "outputs": [
    {
     "name": "stdout",
     "output_type": "stream",
     "text": [
      "2500\n",
      "840\n"
     ]
    }
   ],
   "source": [
    "print(10*25*10)  ## Pintas distintas de Alejandra.\n",
    "print(6*35*4)    ## Pintas distintas de Brayan."
   ]
  },
  {
   "cell_type": "markdown",
   "metadata": {
    "id": "ZHHyAnWJYVFv"
   },
   "source": [
    "#### ***Ejemplo.***\n",
    "\n",
    "<div align=\"center\"><img src='https://raw.githubusercontent.com/lacamposm/Diplomado_Metodos_UCentral/main/data/images/conteo13.png' width=600>\n",
    "</div>"
   ]
  },
  {
   "cell_type": "markdown",
   "metadata": {
    "id": "4jA35HUYYbQN"
   },
   "source": [
    "#### ***Ejemplo.***\n",
    "\n",
    "<div align=\"center\"><img src='https://raw.githubusercontent.com/lacamposm/Diplomado_Metodos_UCentral/main/data/images/conteo14.png' width=600>\n",
    "</div>"
   ]
  },
  {
   "cell_type": "markdown",
   "metadata": {
    "id": "PuBGlNaDYlMh"
   },
   "source": [
    "#### ***Ejemplo.***\n",
    "\n",
    "<div align=\"center\"><img src='https://raw.githubusercontent.com/lacamposm/Diplomado_Metodos_UCentral/main/data/images/conteo16.png' width=600>\n",
    "</div>"
   ]
  },
  {
   "cell_type": "code",
   "execution_count": null,
   "metadata": {
    "colab": {
     "base_uri": "https://localhost:8080/"
    },
    "executionInfo": {
     "elapsed": 7,
     "status": "ok",
     "timestamp": 1681579760462,
     "user": {
      "displayName": "luis andres campos maldonado",
      "userId": "11260189668651664411"
     },
     "user_tz": 300
    },
    "id": "HvpjDi7nJYPl",
    "outputId": "b778fba8-a6d6-427e-def0-2941a07e3c27"
   },
   "outputs": [
    {
     "data": {
      "text/plain": [
       "720.0"
      ]
     },
     "execution_count": 8,
     "metadata": {},
     "output_type": "execute_result"
    }
   ],
   "source": [
    "## Facorial de un número.\n",
    "factorial(6)"
   ]
  },
  {
   "cell_type": "markdown",
   "metadata": {
    "id": "_gzns7tp5VlE"
   },
   "source": [
    "\n",
    "***Ordenaciones.***\n",
    "\n",
    "Supongamos que tenemos un conjunto con $n$ elementos y deseamos extraer $k$ elementos de uno en uno de manera secuencial, es decir, con orden."
   ]
  },
  {
   "cell_type": "markdown",
   "metadata": {
    "id": "7ozlvRxHZAzw"
   },
   "source": [
    "#### ***Ejemplo.***\n",
    "\n",
    "<div align=\"center\"><img src='https://raw.githubusercontent.com/lacamposm/Diplomado_Metodos_UCentral/main/data/images/conteo17.png' width=600>\n",
    "</div>"
   ]
  },
  {
   "cell_type": "code",
   "execution_count": null,
   "metadata": {
    "colab": {
     "base_uri": "https://localhost:8080/"
    },
    "executionInfo": {
     "elapsed": 7,
     "status": "ok",
     "timestamp": 1681580242666,
     "user": {
      "displayName": "luis andres campos maldonado",
      "userId": "11260189668651664411"
     },
     "user_tz": 300
    },
    "id": "yNYP-0fzLDGq",
    "outputId": "c98dd9ef-0340-4527-bc3b-46f56f0c4f7c"
   },
   "outputs": [
    {
     "data": {
      "text/plain": [
       "30.0"
      ]
     },
     "execution_count": 9,
     "metadata": {},
     "output_type": "execute_result"
    }
   ],
   "source": [
    "##sin reemplazo: permutacion\n",
    "###Ejemplo: equipos(6), campeon y subcampeon = 6*5 = 30 (importa el orden, es una permutacion)\n",
    "####\n",
    "perm(6, 2,)"
   ]
  },
  {
   "cell_type": "markdown",
   "metadata": {
    "id": "MvHRw58iBCLa"
   },
   "source": [
    "Veamos algunos ejemplos\n",
    "\n",
    "- <font color =\"Blue\">Ejemplo 2.1 </font>¿ Cuántas claves de 5 caracteres se pueden construir con un conjunto de 60 caracteres diferentes?\n",
    "\n",
    "\n",
    "\n",
    "- <font color =\"Blue\">Ejemplo 2.2 </font> En una carrera participan 6 corredores, ¿ de cuántas formas distintas pueden registrarse los 3 primeros lugares?\n",
    "\n",
    "\n",
    "\n",
    "- <font color =\"Blue\">Ejemplo 2.3 </font>En una carrera participan 6 corredores, ¿ de cuántas formas distintas pueden registrarse las seis posiciones?\n"
   ]
  },
  {
   "cell_type": "code",
   "execution_count": null,
   "metadata": {
    "colab": {
     "base_uri": "https://localhost:8080/"
    },
    "executionInfo": {
     "elapsed": 209,
     "status": "ok",
     "timestamp": 1681580274458,
     "user": {
      "displayName": "luis andres campos maldonado",
      "userId": "11260189668651664411"
     },
     "user_tz": 300
    },
    "id": "jEfV2JsjJ7tn",
    "outputId": "7a3560ef-c831-4a72-b77c-82d362f3863d"
   },
   "outputs": [
    {
     "name": "stdout",
     "output_type": "stream",
     "text": [
      "El número total de formas es: 777600000\n"
     ]
    }
   ],
   "source": [
    "## Solución del Ejemplo 2.1\n",
    "## 60*60*60*60*60\n",
    "print(\"El número total de formas es:\", 60**5)"
   ]
  },
  {
   "cell_type": "code",
   "execution_count": null,
   "metadata": {
    "colab": {
     "base_uri": "https://localhost:8080/"
    },
    "executionInfo": {
     "elapsed": 187,
     "status": "ok",
     "timestamp": 1681580435617,
     "user": {
      "displayName": "luis andres campos maldonado",
      "userId": "11260189668651664411"
     },
     "user_tz": 300
    },
    "id": "aTbxtr9_KiQ4",
    "outputId": "c56a0e92-721b-475e-b539-ff3f8abb4eb4"
   },
   "outputs": [
    {
     "name": "stdout",
     "output_type": "stream",
     "text": [
      "El número total de formas es: 120.0\n"
     ]
    }
   ],
   "source": [
    "## Solución del Ejemplo 2.2\n",
    "## Tenemos una permutación de 6 en 3.\n",
    "print(\"El número total de formas es:\", perm(6,3))"
   ]
  },
  {
   "cell_type": "code",
   "execution_count": null,
   "metadata": {
    "colab": {
     "base_uri": "https://localhost:8080/"
    },
    "executionInfo": {
     "elapsed": 189,
     "status": "ok",
     "timestamp": 1681580467823,
     "user": {
      "displayName": "luis andres campos maldonado",
      "userId": "11260189668651664411"
     },
     "user_tz": 300
    },
    "id": "9QUKHs50K_B-",
    "outputId": "7b3d40f1-53d4-468f-fc95-cb0e5e77a324"
   },
   "outputs": [
    {
     "name": "stdout",
     "output_type": "stream",
     "text": [
      "El número total de formas es: 720.0\n"
     ]
    }
   ],
   "source": [
    "## Solución del Ejemplo 2.3\n",
    "## Tenemos una permutación de 6 en 3.\n",
    "print(\"El número total de formas es:\", factorial(6))"
   ]
  },
  {
   "cell_type": "markdown",
   "metadata": {
    "id": "mrN1eNiTE7Fq"
   },
   "source": [
    "***Combinaciones.***\n",
    "\n",
    "Suponga que se tiene un conjunto de $n$ elementos y se extrae un grupo de $k$ elementos (muestra) donde no importa el orden de los elementos. La pregunta en cuestión es :\n",
    "\n",
    "- ¿cuántas muestras diferentes de $k$ elementos puedo extraer de un conjunto de $n$ elementos si no importa el orden de los elementos?\n",
    "\n",
    "Esto último significa lo siguiente: Supongamos que tenemos el conjunto $\\{carro, casa, perro\\}$, si extraemos grupos de dos elementos podemos formar: $\\{carro, casa\\}$ , $\\{carro, perro\\}$ , $\\{casa, perro\\}$. Observe que el conjunto  $\\{carro, casa\\}$ y $\\{casa, carro\\}$ es el mismo. A esto se refiere el hecho de que no importa el orden."
   ]
  },
  {
   "cell_type": "markdown",
   "metadata": {
    "id": "6mD496K5ZQdi"
   },
   "source": [
    "<div align=\"center\"><img src='https://raw.githubusercontent.com/lacamposm/Diplomado_Metodos_UCentral/main/data/images/conteo1.png' width=600>\n",
    "</div>"
   ]
  },
  {
   "cell_type": "markdown",
   "metadata": {
    "id": "lase-RQ4FBRM"
   },
   "source": [
    "***Combinación sin repetición (es decir, sin reemplazo).***\n",
    "\n",
    "Veamos primero, la fórmula para la extracción sin repetición."
   ]
  },
  {
   "cell_type": "markdown",
   "metadata": {
    "id": "GaUMq5jqZWcX"
   },
   "source": [
    "<div align=\"center\"><img src='https://raw.githubusercontent.com/lacamposm/Diplomado_Metodos_UCentral/main/data/images/conteo2.png' width=600>\n",
    "</div>"
   ]
  },
  {
   "cell_type": "code",
   "execution_count": null,
   "metadata": {
    "colab": {
     "base_uri": "https://localhost:8080/"
    },
    "executionInfo": {
     "elapsed": 165,
     "status": "ok",
     "timestamp": 1681580777502,
     "user": {
      "displayName": "luis andres campos maldonado",
      "userId": "11260189668651664411"
     },
     "user_tz": 300
    },
    "id": "d2wXlx-GJrUY",
    "outputId": "f8b32ed9-44fb-4ba4-da3f-43bbfaca7d0a"
   },
   "outputs": [
    {
     "data": {
      "text/plain": [
       "252.0"
      ]
     },
     "execution_count": 13,
     "metadata": {},
     "output_type": "execute_result"
    }
   ],
   "source": [
    "## Combinación de N con k ---> comb(N,k)\n",
    "comb(10,5)"
   ]
  },
  {
   "cell_type": "markdown",
   "metadata": {
    "id": "Fr_NIljdReSa"
   },
   "source": [
    "### Veamos algunos ejemplos:"
   ]
  },
  {
   "cell_type": "markdown",
   "metadata": {
    "id": "w4QzNFcyZhVs"
   },
   "source": [
    "<div align=\"center\"><img src='https://raw.githubusercontent.com/lacamposm/Diplomado_Metodos_UCentral/main/data/images/conteo3.png' width=600>\n",
    "</div>"
   ]
  },
  {
   "cell_type": "code",
   "execution_count": null,
   "metadata": {
    "colab": {
     "base_uri": "https://localhost:8080/"
    },
    "executionInfo": {
     "elapsed": 27,
     "status": "ok",
     "timestamp": 1681576754760,
     "user": {
      "displayName": "luis andres campos maldonado",
      "userId": "11260189668651664411"
     },
     "user_tz": 300
    },
    "id": "t9uWWUddNAd1",
    "outputId": "6b7f9b61-985b-4699-a687-4bc602381e27"
   },
   "outputs": [
    {
     "name": "stdout",
     "output_type": "stream",
     "text": [
      "La cantidad de comites es: 4845.0\n",
      "**************************************************\n",
      "Se intercambiaron 15.0 saludos\n"
     ]
    }
   ],
   "source": [
    "## Solución Problema 1.\n",
    "print(\"La cantidad de comites es:\", comb(20,4))\n",
    "## Solución Problema 1.\n",
    "print(\"*\"*50)\n",
    "print(\"Se intercambiaron\", comb(6,2), \"saludos\")"
   ]
  },
  {
   "cell_type": "markdown",
   "metadata": {
    "id": "rJ9U76KeGll3"
   },
   "source": [
    "***Combinación con repetición( es decir, con reemplazo).***\n",
    "\n"
   ]
  },
  {
   "cell_type": "markdown",
   "metadata": {
    "id": "7M0M6G9eZrY_"
   },
   "source": [
    "<div align=\"center\"><img src='https://raw.githubusercontent.com/lacamposm/Diplomado_Metodos_UCentral/main/data/images/conteo4.png' width=600>\n",
    "</div>"
   ]
  },
  {
   "cell_type": "markdown",
   "metadata": {
    "id": "YfiXMdpOR90C"
   },
   "source": [
    "### ***Veamos algunos ejemplos:***"
   ]
  },
  {
   "cell_type": "markdown",
   "metadata": {
    "id": "q5jpwV0iZx-2"
   },
   "source": [
    "<div align=\"center\"><img src='https://raw.githubusercontent.com/lacamposm/Diplomado_Metodos_UCentral/main/data/images/conteo5.png' width=600>\n",
    "</div>"
   ]
  },
  {
   "cell_type": "code",
   "execution_count": null,
   "metadata": {
    "id": "QfUYJ8YSPF58"
   },
   "outputs": [],
   "source": [
    "def combi_repe(n=1,k=1):\n",
    "  cr = factorial(n+k-1)/(factorial(n-1)*factorial(k))\n",
    "  return round(cr)"
   ]
  },
  {
   "cell_type": "code",
   "execution_count": null,
   "metadata": {
    "colab": {
     "base_uri": "https://localhost:8080/"
    },
    "executionInfo": {
     "elapsed": 412,
     "status": "ok",
     "timestamp": 1681580799741,
     "user": {
      "displayName": "luis andres campos maldonado",
      "userId": "11260189668651664411"
     },
     "user_tz": 300
    },
    "id": "ETA0nDHLSIhX",
    "outputId": "471933b1-2789-4bc5-ed67-f6a7f13f16ff"
   },
   "outputs": [
    {
     "name": "stdout",
     "output_type": "stream",
     "text": [
      "La cantidad de maneras de elegir las tres cervazas es: 35\n"
     ]
    }
   ],
   "source": [
    "## Celda para probar\n",
    "print(\"La cantidad de maneras de elegir las tres cervazas es:\", combi_repe(5,3))"
   ]
  },
  {
   "cell_type": "code",
   "execution_count": null,
   "metadata": {
    "colab": {
     "base_uri": "https://localhost:8080/"
    },
    "executionInfo": {
     "elapsed": 178,
     "status": "ok",
     "timestamp": 1681580803834,
     "user": {
      "displayName": "luis andres campos maldonado",
      "userId": "11260189668651664411"
     },
     "user_tz": 300
    },
    "id": "_kO0s7bPSIVn",
    "outputId": "85b2d94f-d61e-47a8-d31c-c4be9244b40d"
   },
   "outputs": [
    {
     "name": "stdout",
     "output_type": "stream",
     "text": [
      "La cantidad de grupos de cartas es: 123410\n"
     ]
    }
   ],
   "source": [
    "## Celda para probar\n",
    "print(\"La cantidad de grupos de cartas es:\", combi_repe(40,4))"
   ]
  },
  {
   "cell_type": "markdown",
   "metadata": {
    "id": "pkGlbVMaGCyN"
   },
   "source": [
    "***Permutaciones.***\n",
    "\n",
    "Seguimos con el concepto de permutación. Suponga que se tiene un conjunto de $n$ elementos y nos preguntamos\n",
    "\n",
    "¿De cuántas formas se pueden ordenar los $n$ elementos?\n"
   ]
  },
  {
   "cell_type": "markdown",
   "metadata": {
    "id": "fMOPrO8pZ3jZ"
   },
   "source": [
    "<div align=\"center\"><img src='https://raw.githubusercontent.com/lacamposm/Fundamentos_Analitica/main/images/conteo6.png' width=600>\n",
    "</div>"
   ]
  },
  {
   "cell_type": "markdown",
   "metadata": {
    "id": "PukExClpSXQa"
   },
   "source": [
    "***Permutaciones sin repetición.***\n",
    "\n",
    "En este caso vamos a suponer que tenemos n elementos los cuales los vamos a ordenar y supondremos que en este conjunto no hay elementos repetidos."
   ]
  },
  {
   "cell_type": "markdown",
   "metadata": {
    "id": "4hlZw4FOZ_T1"
   },
   "source": [
    "<div align=\"center\"><img src='https://raw.githubusercontent.com/lacamposm/Diplomado_Metodos_UCentral/main/data/images/conteo7.png' width=600>\n",
    "</div>"
   ]
  },
  {
   "cell_type": "markdown",
   "metadata": {
    "id": "lgqNu6vSSfqW"
   },
   "source": [
    "## ***Veamos unos ejemplos.***"
   ]
  },
  {
   "cell_type": "markdown",
   "metadata": {
    "id": "ibFFxy4OaBxR"
   },
   "source": [
    "<div align=\"center\"><img src='https://raw.githubusercontent.com/lacamposm/Diplomado_Metodos_UCentral/main/data/images/conteo8.png' width=600>\n",
    "</div>"
   ]
  },
  {
   "cell_type": "code",
   "execution_count": null,
   "metadata": {
    "colab": {
     "base_uri": "https://localhost:8080/"
    },
    "executionInfo": {
     "elapsed": 184,
     "status": "ok",
     "timestamp": 1681580814545,
     "user": {
      "displayName": "luis andres campos maldonado",
      "userId": "11260189668651664411"
     },
     "user_tz": 300
    },
    "id": "eHVBoWBiSnjF",
    "outputId": "300d3414-2d98-4eb4-e604-6ec86704bc80"
   },
   "outputs": [
    {
     "data": {
      "text/plain": [
       "120.0"
      ]
     },
     "execution_count": 18,
     "metadata": {},
     "output_type": "execute_result"
    }
   ],
   "source": [
    "## Celda para probar\n",
    "factorial(5)"
   ]
  },
  {
   "cell_type": "code",
   "execution_count": null,
   "metadata": {
    "colab": {
     "base_uri": "https://localhost:8080/"
    },
    "executionInfo": {
     "elapsed": 185,
     "status": "ok",
     "timestamp": 1681580822058,
     "user": {
      "displayName": "luis andres campos maldonado",
      "userId": "11260189668651664411"
     },
     "user_tz": 300
    },
    "id": "8Puxl66-Spod",
    "outputId": "46bf7c15-39e8-4eb2-dfc9-fcf160a3ff36"
   },
   "outputs": [
    {
     "data": {
      "text/plain": [
       "720.0"
      ]
     },
     "execution_count": 19,
     "metadata": {},
     "output_type": "execute_result"
    }
   ],
   "source": [
    "## Celda para probar\n",
    "factorial(6)"
   ]
  },
  {
   "cell_type": "markdown",
   "metadata": {
    "id": "sq1SJUtADnoB"
   },
   "source": [
    "***Permutaciones con repetición.***\n",
    "\n",
    "En este caso vamos a suponer que tenemos $n$ elementos en los cuales hay elementos repetidos.\n"
   ]
  },
  {
   "cell_type": "markdown",
   "metadata": {
    "id": "hwR650xtaIbb"
   },
   "source": [
    "<div align=\"center\"><img src='https://raw.githubusercontent.com/lacamposm/Diplomado_Metodos_UCentral/main/data/images/conteo9.png' width=600>\n",
    "</div>"
   ]
  },
  {
   "cell_type": "markdown",
   "metadata": {
    "id": "WFKNPTqNSw-4"
   },
   "source": [
    "## Veamos algunos ejemplos"
   ]
  },
  {
   "cell_type": "markdown",
   "metadata": {
    "id": "sxurNrx1aK89"
   },
   "source": [
    "<div align=\"center\"><img src='https://raw.githubusercontent.com/lacamposm/Diplomado_Metodos_UCentral/main/data/images/conteo10.png' width=600>\n",
    "</div>"
   ]
  },
  {
   "cell_type": "code",
   "execution_count": null,
   "metadata": {
    "id": "ZlUXq87m_m1i"
   },
   "outputs": [],
   "source": [
    "### funcion de permutaciones con repeticiones\n",
    "def permu_repe(lista):\n",
    "    count = 1\n",
    "    for elemento in set(lista):\n",
    "        count *= factorial(lista.count(elemento))\n",
    "    return factorial(len(lista))/count"
   ]
  },
  {
   "cell_type": "code",
   "execution_count": null,
   "metadata": {
    "colab": {
     "base_uri": "https://localhost:8080/"
    },
    "executionInfo": {
     "elapsed": 163,
     "status": "ok",
     "timestamp": 1681580840411,
     "user": {
      "displayName": "luis andres campos maldonado",
      "userId": "11260189668651664411"
     },
     "user_tz": 300
    },
    "id": "hI7YTG0nDep4",
    "outputId": "f6d7e14d-5c69-4771-808f-d778fdd6cf0e"
   },
   "outputs": [
    {
     "data": {
      "text/plain": [
       "560.0"
      ]
     },
     "execution_count": 21,
     "metadata": {},
     "output_type": "execute_result"
    }
   ],
   "source": [
    "permu_repe([2,2,2,3,3,3,4,4])"
   ]
  },
  {
   "cell_type": "code",
   "execution_count": null,
   "metadata": {
    "colab": {
     "base_uri": "https://localhost:8080/"
    },
    "executionInfo": {
     "elapsed": 160,
     "status": "ok",
     "timestamp": 1681580843590,
     "user": {
      "displayName": "luis andres campos maldonado",
      "userId": "11260189668651664411"
     },
     "user_tz": 300
    },
    "id": "3YpYjGq1EevL",
    "outputId": "2d12425a-d297-4563-b5e1-714f6e07746d"
   },
   "outputs": [
    {
     "data": {
      "text/plain": [
       "35.0"
      ]
     },
     "execution_count": 22,
     "metadata": {},
     "output_type": "execute_result"
    }
   ],
   "source": [
    "permu_repe([\"moneda500\",\"moneda500\",\"moneda500\",\"moneda1000\",\"moneda1000\",\"moneda1000\",\n",
    "            \"moneda1000\"])"
   ]
  },
  {
   "cell_type": "markdown",
   "metadata": {
    "id": "eKbXJnxBaQl2"
   },
   "source": [
    "<div align=\"center\"><img src='https://raw.githubusercontent.com/lacamposm/Diplomado_Metodos_UCentral/main/data/images/conteo11.png' width=600>\n",
    "</div>"
   ]
  },
  {
   "cell_type": "markdown",
   "metadata": {
    "id": "6q9KwQGGAW1d"
   },
   "source": [
    "## ***Piense en como resolver los siguientes ejercicios.***\n",
    "\n",
    "1.  Una  clase  consta  de  seis  niñas  y  10  niños.  Si  se  escoge  un  comité  de  tres  al azar, hallar la probabilidad de: a) Seleccionar tres niños, b) Seleccionar exactamente dos niños y una niña. c) Seleccionar por lo menos un niño.\n",
    "2. En una baraja de 52 cartas. Tenemos cuatro palos, numerados del 1 al 10 y además J,Q,K. ¿Cuántas manos diferentes de cinco cartas se pueden formar?\n",
    "\n",
    "3. ¿Cuántas apuestas se pueden hacer en el Baloto? Tenga en cuenta que son 43 números y se escogen 5.\n",
    "\n",
    "4.  Tenemos un grupo compuesto por 6 hombres y 8 mujeres. Calcular:\n",
    "\n",
    "   + ¿De cuántas formas se puede escoger 4 hombres y 5 mujeres.\n",
    "   \n",
    "   + ¿De cuántas formas se puede escoger un grupo formado por 3 hombres y 4 mujeres, si en el grupo debe estar una mujer determinada.\n",
    "   \n",
    "5. ¿De cuántas maneras pueden sentarse 9 niñas en una fila de 9 asientos?\n",
    "\n",
    "6. ¿De cuántas formas pueden quedar clasificados 3 equipos de fútbol que participan en un torneo de 10 equipos?\n",
    "\n",
    "7. ¿Cuántas placas de 3 letras y tres números se pueden formar?\n",
    "\n",
    "8. ¿Cuántas números pares de tres cifras se pueden formar con los números {0,1,2,…7}\n"
   ]
  },
  {
   "cell_type": "code",
   "execution_count": null,
   "metadata": {},
   "outputs": [],
   "source": []
  }
 ],
 "metadata": {
  "colab": {
   "provenance": []
  },
  "kernelspec": {
   "display_name": "Python 3 (ipykernel)",
   "language": "python",
   "name": "python3"
  },
  "language_info": {
   "codemirror_mode": {
    "name": "ipython",
    "version": 3
   },
   "file_extension": ".py",
   "mimetype": "text/x-python",
   "name": "python",
   "nbconvert_exporter": "python",
   "pygments_lexer": "ipython3",
   "version": "3.10.9"
  }
 },
 "nbformat": 4,
 "nbformat_minor": 4
}
